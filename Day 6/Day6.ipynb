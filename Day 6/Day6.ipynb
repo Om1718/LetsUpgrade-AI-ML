{
 "cells": [
  {
   "cell_type": "markdown",
   "metadata": {},
   "source": [
    "### Question 1:\n",
    "### Assuming that we have some email addresses in the \"username@companyname.com\" format, please write program to print the company name of a given email address. Both user names and company names are composed of letters only.\n",
    "### Input Format:\n",
    "### The first line of the input contains an email address.\n",
    "### Output Format:\n",
    "### Print the company name in single line.\n",
    "### Example;\n",
    "### Input:\n",
    "### john@google.com\n",
    "### Output:\n",
    "### google"
   ]
  },
  {
   "cell_type": "code",
   "execution_count": 9,
   "metadata": {},
   "outputs": [
    {
     "name": "stdout",
     "output_type": "stream",
     "text": [
      "Enter the email : omlandge@topper.in\n",
      "Company is :  topper\n"
     ]
    }
   ],
   "source": [
    "def extract_company(email):\n",
    "    index_of_at = email.find(\"@\")\n",
    "    return email[index_of_at+1:email.rfind('.')]\n",
    "\n",
    "e=str(input(\"Enter the email : \"))\n",
    "r= extract_company(e)\n",
    "print(\"Company is : \",r)"
   ]
  },
  {
   "cell_type": "markdown",
   "metadata": {},
   "source": [
    "### Question 2:\n",
    "### Write a program that accepts a comma-separated sequence of words as input and prints the words in a comma\n",
    "### separated sequence after sorting them alphabetically.\n",
    "### Input Format:\n",
    "### The first line of input contains words separated by the comma.\n",
    "### Output Format:\n",
    "### Print the sorted words separated by the comma.\n",
    "### Example:\n",
    "### Input:\n",
    "### without,hello,bag,world\n",
    "### Output:\n",
    "### bag,hello,without,world"
   ]
  },
  {
   "cell_type": "code",
   "execution_count": 26,
   "metadata": {},
   "outputs": [
    {
     "name": "stdout",
     "output_type": "stream",
     "text": [
      "Enter the data : om,raj,aniket,pranav\n",
      "The sorted data is :  aniket,om,pranav,raj\n"
     ]
    }
   ],
   "source": [
    "i = [x for x in input(\"Enter the data : \").split(',')]\n",
    "i.sort()\n",
    "print(\"The sorted data is : \",','.join(i))"
   ]
  },
  {
   "cell_type": "markdown",
   "metadata": {},
   "source": [
    "### Question 3:\n",
    "### Create your own Jupyter Notebook for Sets."
   ]
  },
  {
   "cell_type": "code",
   "execution_count": 35,
   "metadata": {},
   "outputs": [
    {
     "name": "stdout",
     "output_type": "stream",
     "text": [
      "{'hockey', 'badminton', 'football', 'cricket', 'zebra'}\n"
     ]
    }
   ],
   "source": [
    "#A set is a collection which is unordered and unindexed. In Python sets are written with curly brackets.\n",
    "#simple creation of set\n",
    "thisset = {\"cricket\", \"badminton\", \"hockey\", \"football\",\"zebra\"}\n",
    "print(thisset)"
   ]
  },
  {
   "cell_type": "code",
   "execution_count": 40,
   "metadata": {},
   "outputs": [
    {
     "name": "stdout",
     "output_type": "stream",
     "text": [
      "hockey\n",
      "badminton\n",
      "football\n",
      "cricket\n",
      "zebra\n"
     ]
    }
   ],
   "source": [
    "#access items\n",
    "thisset = {\"cricket\", \"badminton\", \"hockey\", \"football\",\"zebra\"}\n",
    "for x in thisset:\n",
    "    print(x)"
   ]
  },
  {
   "cell_type": "code",
   "execution_count": 42,
   "metadata": {},
   "outputs": [
    {
     "name": "stdout",
     "output_type": "stream",
     "text": [
      "True\n"
     ]
    }
   ],
   "source": [
    "#check items\n",
    "thisset = {\"cricket\", \"badminton\", \"hockey\", \"football\",\"zebra\"}\n",
    "print(\"hockey\" in thisset)"
   ]
  },
  {
   "cell_type": "code",
   "execution_count": 43,
   "metadata": {},
   "outputs": [
    {
     "name": "stdout",
     "output_type": "stream",
     "text": [
      "{'hockey', 'badminton', 'football', 'cricket', 'zebra', 'swimmimg'}\n"
     ]
    }
   ],
   "source": [
    "#add items\n",
    "thisset = {\"cricket\", \"badminton\", \"hockey\", \"football\",\"zebra\"}\n",
    "thisset.add(\"swimmimg\")\n",
    "print(thisset)"
   ]
  },
  {
   "cell_type": "code",
   "execution_count": 46,
   "metadata": {},
   "outputs": [
    {
     "name": "stdout",
     "output_type": "stream",
     "text": [
      "{'cycling', 'chess', 'hockey', 'badminton', 'running', 'football', 'cricket', 'zebra', 'swimmimg'}\n"
     ]
    }
   ],
   "source": [
    "#add multiple items\n",
    "thisset = {\"cricket\", \"badminton\", \"hockey\", \"football\",\"zebra\",'swimmimg'}\n",
    "thisset.update([\"cycling\",'running',\"chess\"])\n",
    "print(thisset)"
   ]
  },
  {
   "cell_type": "code",
   "execution_count": 48,
   "metadata": {},
   "outputs": [
    {
     "data": {
      "text/plain": [
       "9"
      ]
     },
     "execution_count": 48,
     "metadata": {},
     "output_type": "execute_result"
    }
   ],
   "source": [
    "#lenght of set \n",
    "thisset = {'cycling', 'chess', 'hockey', 'badminton', 'running', 'football', 'cricket', 'zebra', 'swimmimg'}\n",
    "len(thisset)"
   ]
  },
  {
   "cell_type": "code",
   "execution_count": 57,
   "metadata": {},
   "outputs": [
    {
     "name": "stdout",
     "output_type": "stream",
     "text": [
      "{'cycling', 'running', 'hockey', 'badminton', 'football', 'cricket', 'zebra', 'swimmimg'}\n"
     ]
    }
   ],
   "source": [
    "#remove item\n",
    "thisset = {'cycling', 'chess', 'hockey', 'badminton', 'running', 'football', 'cricket', 'zebra', 'swimmimg'}\n",
    "thisset.remove('chess')\n",
    "print(thisset)"
   ]
  },
  {
   "cell_type": "code",
   "execution_count": 58,
   "metadata": {},
   "outputs": [
    {
     "name": "stdout",
     "output_type": "stream",
     "text": [
      "{'cycling', 'running', 'badminton', 'football', 'cricket', 'zebra', 'swimmimg'}\n"
     ]
    }
   ],
   "source": [
    "#discard item\n",
    "thisset = {'cycling','hockey', 'badminton', 'running', 'football', 'cricket', 'zebra', 'swimmimg'}\n",
    "thisset.discard('hockey')\n",
    "print(thisset)"
   ]
  },
  {
   "cell_type": "code",
   "execution_count": 62,
   "metadata": {},
   "outputs": [
    {
     "name": "stdout",
     "output_type": "stream",
     "text": [
      "cycling\n",
      "{'running', 'badminton', 'football', 'cricket', 'zebra', 'swimmimg'}\n"
     ]
    }
   ],
   "source": [
    "#pop method\n",
    "thisset = {'cycling', 'running', 'badminton', 'football', 'cricket', 'zebra', 'swimmimg'}\n",
    "x = thisset.pop()\n",
    "print(x)\n",
    "print(thisset)"
   ]
  },
  {
   "cell_type": "code",
   "execution_count": 68,
   "metadata": {},
   "outputs": [
    {
     "name": "stdout",
     "output_type": "stream",
     "text": [
      "set()\n"
     ]
    }
   ],
   "source": [
    "#clear method\n",
    "thisset = {'running', 'badminton', 'football', 'cricket', 'zebra', 'swimmimg'}\n",
    "thisset.clear()\n",
    "print(thisset)"
   ]
  },
  {
   "cell_type": "code",
   "execution_count": 69,
   "metadata": {},
   "outputs": [
    {
     "name": "stdout",
     "output_type": "stream",
     "text": [
      "{'z', 'x', 'y', 'a', 'c', 'b'}\n"
     ]
    }
   ],
   "source": [
    "#join two sets\n",
    "#union method\n",
    "set1 = {\"x\", \"y\" , \"z\"}\n",
    "set2 = {\"a\",\"b\",\"c\"}\n",
    "\n",
    "set3 = set1.union(set2)\n",
    "print(set3)\n"
   ]
  },
  {
   "cell_type": "code",
   "execution_count": 70,
   "metadata": {},
   "outputs": [
    {
     "name": "stdout",
     "output_type": "stream",
     "text": [
      "{1, 2, 3, 8, 9, 10}\n"
     ]
    }
   ],
   "source": [
    "#update\n",
    "set1 = {8, 9, 10}\n",
    "set2 = {1, 2, 3}\n",
    "\n",
    "set1.update(set2)\n",
    "print(set1)\n"
   ]
  },
  {
   "cell_type": "markdown",
   "metadata": {},
   "source": [
    "### Question 4:\n",
    "### Given a list of n-1 numbers ranging from 1 to n, your task is to find the missing number. There are no duplicates.\n",
    "### Input Format:\n",
    "### The first line contains n-1 numbers with each number separated by a space.\n",
    "### Output Format:\n",
    "### Print the missing number\n",
    "### Example:\n",
    "### Input:1 2 4 6 3 7 8\n",
    "### Output:5\n",
    "### Explanation:\n",
    "### In the above list of numbers 5 is missing and hence 5 is the input"
   ]
  },
  {
   "cell_type": "code",
   "execution_count": 71,
   "metadata": {},
   "outputs": [
    {
     "name": "stdout",
     "output_type": "stream",
     "text": [
      "[11, 13, 14, 16, 17, 18, 19, 22, 23]\n"
     ]
    }
   ],
   "source": [
    "def find_missing_no(lst):\n",
    "    return [x for x in range(lst[0], lst[-1]+1) if x not in lst]\n",
    "\n",
    "lst = [10,20,12,15,21,26,24]\n",
    "print(find_missing_no(lst))"
   ]
  },
  {
   "cell_type": "markdown",
   "metadata": {},
   "source": [
    "### Question 5:\n",
    "### With a given list L, write a program to print this list L after removing all duplicate values with original order reserved.\n",
    "### Example:\n",
    "### If the input list is\n",
    "### 12 24 35 24 88 120 155 88 120 155\n",
    "### Then the output should be\n",
    "### 12 24 35 88 120 155\n",
    "### Explanation:\n",
    "### Third, seventh and ninth element of the list L has been removed because it was already present.\n",
    "### Input Format:\n",
    "### In one line take the elements of the list L with each element separated by a space.\n",
    "### Output Format:\n",
    "### Print the elements of the modified list in one line with each element separated by a space.\n",
    "### Example:\n",
    "### Input: 12 24 35 24\n",
    "### Output:\n",
    "### 12 24 35"
   ]
  },
  {
   "cell_type": "code",
   "execution_count": 74,
   "metadata": {},
   "outputs": [
    {
     "name": "stdout",
     "output_type": "stream",
     "text": [
      "[12, 24, 35]\n"
     ]
    }
   ],
   "source": [
    "def remove(dupli):\n",
    "    lst = []\n",
    "    for num in dupli:\n",
    "        if num not in lst:\n",
    "            lst.append(num)\n",
    "    return lst\n",
    "\n",
    "dupli = [12,24,35,24]\n",
    "print(remove(dupli))"
   ]
  },
  {
   "cell_type": "code",
   "execution_count": null,
   "metadata": {},
   "outputs": [],
   "source": []
  }
 ],
 "metadata": {
  "kernelspec": {
   "display_name": "Python 3",
   "language": "python",
   "name": "python3"
  },
  "language_info": {
   "codemirror_mode": {
    "name": "ipython",
    "version": 3
   },
   "file_extension": ".py",
   "mimetype": "text/x-python",
   "name": "python",
   "nbconvert_exporter": "python",
   "pygments_lexer": "ipython3",
   "version": "3.7.6"
  }
 },
 "nbformat": 4,
 "nbformat_minor": 4
}
