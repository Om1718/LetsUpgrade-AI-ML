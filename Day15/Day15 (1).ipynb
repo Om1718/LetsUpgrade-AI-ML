{
 "cells": [
  {
   "cell_type": "markdown",
   "metadata": {},
   "source": [
    "# 1. Create a 3x3x3 array with random values "
   ]
  },
  {
   "cell_type": "code",
   "execution_count": 4,
   "metadata": {},
   "outputs": [
    {
     "name": "stdout",
     "output_type": "stream",
     "text": [
      "[[[0.52501794 0.44189202 0.77449873]\n",
      "  [0.46074976 0.86062472 0.43907676]\n",
      "  [0.18347049 0.25735215 0.84795461]]\n",
      "\n",
      " [[0.12463895 0.52525827 0.31809869]\n",
      "  [0.39311322 0.4495558  0.02070087]\n",
      "  [0.25661984 0.64169212 0.45780239]]\n",
      "\n",
      " [[0.39582606 0.05786116 0.28335691]\n",
      "  [0.54354914 0.89586728 0.52245032]\n",
      "  [0.49803673 0.94610583 0.02971982]]]\n"
     ]
    }
   ],
   "source": [
    "import numpy as np\n",
    "a = np.random.random((3,3,3))\n",
    "print(a)"
   ]
  },
  {
   "cell_type": "markdown",
   "metadata": {},
   "source": [
    "# 2.Create a 5x5 matrix with values 1,2,3,4 just below the diagonal"
   ]
  },
  {
   "cell_type": "code",
   "execution_count": 17,
   "metadata": {},
   "outputs": [
    {
     "name": "stdout",
     "output_type": "stream",
     "text": [
      "[[1 0 0 0 0]\n",
      " [0 2 0 0 0]\n",
      " [0 0 3 0 0]\n",
      " [0 0 0 4 0]\n",
      " [0 0 0 0 5]]\n"
     ]
    }
   ],
   "source": [
    "import numpy as np\n",
    "a = np.diag(1+np.arange(5))\n",
    "print(a)"
   ]
  },
  {
   "cell_type": "markdown",
   "metadata": {},
   "source": [
    "# 3.Create a 8x8 matrix and fill it with a checkerboard pattern"
   ]
  },
  {
   "cell_type": "code",
   "execution_count": 28,
   "metadata": {},
   "outputs": [
    {
     "name": "stdout",
     "output_type": "stream",
     "text": [
      "[[1. 1. 1.]\n",
      " [1. 1. 1.]\n",
      " [1. 1. 1.]]\n",
      "[[0. 0. 0. 0. 0. 0. 0. 0.]\n",
      " [0. 0. 0. 0. 0. 0. 0. 0.]\n",
      " [0. 0. 0. 0. 0. 0. 0. 0.]\n",
      " [0. 0. 0. 0. 0. 0. 0. 0.]\n",
      " [0. 0. 0. 0. 0. 0. 0. 0.]\n",
      " [0. 0. 0. 0. 0. 0. 0. 0.]\n",
      " [0. 0. 0. 0. 0. 0. 0. 0.]\n",
      " [0. 0. 0. 0. 0. 0. 0. 0.]]\n",
      "[[0. 0. 0. 0. 0. 0. 0. 0.]\n",
      " [1. 0. 1. 0. 1. 0. 1. 0.]\n",
      " [0. 0. 0. 0. 0. 0. 0. 0.]\n",
      " [1. 0. 1. 0. 1. 0. 1. 0.]\n",
      " [0. 0. 0. 0. 0. 0. 0. 0.]\n",
      " [1. 0. 1. 0. 1. 0. 1. 0.]\n",
      " [0. 0. 0. 0. 0. 0. 0. 0.]\n",
      " [1. 0. 1. 0. 1. 0. 1. 0.]]\n",
      "[[0. 1. 0. 1. 0. 1. 0. 1.]\n",
      " [1. 0. 1. 0. 1. 0. 1. 0.]\n",
      " [0. 1. 0. 1. 0. 1. 0. 1.]\n",
      " [1. 0. 1. 0. 1. 0. 1. 0.]\n",
      " [0. 1. 0. 1. 0. 1. 0. 1.]\n",
      " [1. 0. 1. 0. 1. 0. 1. 0.]\n",
      " [0. 1. 0. 1. 0. 1. 0. 1.]\n",
      " [1. 0. 1. 0. 1. 0. 1. 0.]]\n"
     ]
    }
   ],
   "source": [
    "import numpy as np\n",
    "a = np.ones((3,3))\n",
    "print(a)\n",
    "a = np.zeros((8,8))\n",
    "print(a)\n",
    "a[1::2,::2] = 1\n",
    "print(a)\n",
    "a[::2,1::2] = 1\n",
    "print(a)"
   ]
  },
  {
   "cell_type": "markdown",
   "metadata": {},
   "source": [
    "# 4. Normalize a 5x5 random matrix"
   ]
  },
  {
   "cell_type": "code",
   "execution_count": 44,
   "metadata": {},
   "outputs": [
    {
     "name": "stdout",
     "output_type": "stream",
     "text": [
      "Original Array :\n",
      "[[0.98307183 0.34364446 0.71221677 0.04781705 0.27226333]\n",
      " [0.81962467 0.11067962 0.55092163 0.1077257  0.76524357]\n",
      " [0.70855672 0.8493302  0.92005429 0.53795617 0.81013782]\n",
      " [0.2631061  0.01405576 0.92552788 0.63652368 0.70420319]\n",
      " [0.29316153 0.35934404 0.6372964  0.09512807 0.26096941]]\n",
      "After normalization :\n",
      "[[1.         0.34012717 0.72048445 0.0348408  0.26646366]\n",
      " [0.83132668 0.09971337 0.55403196 0.096665   0.77520676]\n",
      " [0.71670737 0.86198204 0.9349675  0.54065193 0.82153649]\n",
      " [0.25701363 0.         0.94061611 0.6423711  0.71221464]\n",
      " [0.28803008 0.35632875 0.64316853 0.08366456 0.25480862]]\n"
     ]
    }
   ],
   "source": [
    "import numpy as np\n",
    "a = np.random.random((5,5))\n",
    "print(\"Original Array :\")\n",
    "print(a)\n",
    "amax, amin = a.max(), a.min()\n",
    "a = (a - amin)/(amax - amin)\n",
    "print(\"After normalization :\")\n",
    "print(a)"
   ]
  },
  {
   "cell_type": "markdown",
   "metadata": {},
   "source": [
    "# 5.  How to find common values between two arrays?"
   ]
  },
  {
   "cell_type": "code",
   "execution_count": 45,
   "metadata": {},
   "outputs": [
    {
     "name": "stdout",
     "output_type": "stream",
     "text": [
      "Array1 is :  [1 2 3 4 5 6]\n",
      "Array2 is :  [5, 6, 7, 8, 9]\n",
      "Common values between two arrays are :\n",
      "[5 6]\n"
     ]
    }
   ],
   "source": [
    "import numpy as np\n",
    "array1 = np.array([1, 2, 3 , 4, 5, 6])\n",
    "print(\"Array1 is : \",array1)\n",
    "array2 = [5,6,7,8,9]\n",
    "print(\"Array2 is : \",array2)\n",
    "print(\"Common values between two arrays are :\")\n",
    "print(np.intersect1d(array1, array2))"
   ]
  },
  {
   "cell_type": "markdown",
   "metadata": {},
   "source": [
    "# 6.How to get the dates of yesterday, today and tomorrow?"
   ]
  },
  {
   "cell_type": "code",
   "execution_count": 47,
   "metadata": {},
   "outputs": [
    {
     "name": "stdout",
     "output_type": "stream",
     "text": [
      "Yestraday's date is :  2020-07-27\n",
      "Today's date is :  2020-07-28\n",
      "Tomorrow's date is :  2020-07-29\n"
     ]
    }
   ],
   "source": [
    "yesterday = np.datetime64('today', 'D') - np.timedelta64(1, 'D')\n",
    "print(\"Yestraday's date is : \",yesterday)\n",
    "today     = np.datetime64('today', 'D')\n",
    "print(\"Today's date is : \",today)\n",
    "tomorrow  = np.datetime64('today', 'D') + np.timedelta64(1, 'D')\n",
    "print(\"Tomorrow's date is : \",tomorrow)"
   ]
  },
  {
   "cell_type": "markdown",
   "metadata": {},
   "source": [
    "# 7. Consider two random array A and B, check if they are equal"
   ]
  },
  {
   "cell_type": "code",
   "execution_count": 52,
   "metadata": {},
   "outputs": [
    {
     "name": "stdout",
     "output_type": "stream",
     "text": [
      "First array is :\n",
      "0\n",
      "Second array is :\n",
      "1\n",
      "Test above two arrays are equal or not mention below :-\n",
      "False\n"
     ]
    }
   ],
   "source": [
    "a = np.random.randint(0,2)\n",
    "print(\"First array is :\")\n",
    "print(a)\n",
    "b = np.random.randint(0,2)\n",
    "print(\"Second array is :\")\n",
    "print(b)\n",
    "print(\"Test above two arrays are equal or not mention below :-\")\n",
    "array_equal = np.allclose(a,b)\n",
    "print(array_equal)"
   ]
  },
  {
   "cell_type": "markdown",
   "metadata": {},
   "source": [
    "# 8.Create random vector of size 10 and replace the maximum value by 0 "
   ]
  },
  {
   "cell_type": "code",
   "execution_count": 54,
   "metadata": {},
   "outputs": [
    {
     "name": "stdout",
     "output_type": "stream",
     "text": [
      "Original array is :\n",
      "[0.30585768 0.30480551 0.927722   0.1454953  0.91517484 0.10234848\n",
      " 0.49299177 0.36804477 0.5619744  0.40488922]\n",
      "Maximum value replaced by 0 : \n",
      "[0.30585768 0.30480551 0.         0.1454953  0.91517484 0.10234848\n",
      " 0.49299177 0.36804477 0.5619744  0.40488922]\n"
     ]
    }
   ],
   "source": [
    "a = np.random.random(10)\n",
    "print(\"Original array is :\")\n",
    "print(a)\n",
    "a[a.argmax()] = 0\n",
    "print(\"Maximum value replaced by 0 : \")\n",
    "print(a)"
   ]
  },
  {
   "cell_type": "markdown",
   "metadata": {},
   "source": [
    "# 9. How to print all the values of an array?"
   ]
  },
  {
   "cell_type": "code",
   "execution_count": 62,
   "metadata": {},
   "outputs": [
    {
     "name": "stdout",
     "output_type": "stream",
     "text": [
      "All values of an array are as follows \n",
      "[0 1 2 3 4 5 6 7 8 9]\n"
     ]
    }
   ],
   "source": [
    "array1 = np.arange(10)\n",
    "print(\"All values of an array are as follows \")\n",
    "print(array1)"
   ]
  },
  {
   "cell_type": "markdown",
   "metadata": {},
   "source": [
    "# 10.Subtract the mean of each row of a matrix"
   ]
  },
  {
   "cell_type": "code",
   "execution_count": 68,
   "metadata": {},
   "outputs": [
    {
     "name": "stdout",
     "output_type": "stream",
     "text": [
      " Original matrix: \n",
      "[[0.78827801 0.81746413 0.90317432 0.36727755]\n",
      " [0.38432615 0.94516048 0.13908631 0.81153512]]\n",
      "\n",
      " Subtract the mean of each row of the said matrix: \n",
      "[[ 0.06922951  0.09841563  0.18412582 -0.35177095]\n",
      " [-0.18570087  0.37513346 -0.4309407   0.2415081 ]]\n"
     ]
    }
   ],
   "source": [
    "print(\" Original matrix: \")\n",
    "X = np.random.rand(2,4)\n",
    "print(X)\n",
    "print(\"\\n Subtract the mean of each row of the said matrix: \")\n",
    "Y = X - X.mean(axis=1, keepdims=True)\n",
    "print(Y)"
   ]
  },
  {
   "cell_type": "markdown",
   "metadata": {},
   "source": [
    "# 11.Consider a given vector, how to add 1 to each element indexed by a second vector (be careful with repeated indices)? "
   ]
  },
  {
   "cell_type": "code",
   "execution_count": 79,
   "metadata": {},
   "outputs": [
    {
     "name": "stdout",
     "output_type": "stream",
     "text": [
      "[5. 2. 2. 6. 2. 4. 3. 1. 3. 2.]\n"
     ]
    }
   ],
   "source": [
    "a = np.ones(10)\n",
    "b = np.random.randint(0,len(a),20)\n",
    "a += np.bincount(b, minlength=len(a))\n",
    "print(a)"
   ]
  },
  {
   "cell_type": "code",
   "execution_count": null,
   "metadata": {},
   "outputs": [],
   "source": []
  },
  {
   "cell_type": "markdown",
   "metadata": {},
   "source": [
    "# 12.How to get the diagonal of a dot product?"
   ]
  },
  {
   "cell_type": "code",
   "execution_count": null,
   "metadata": {},
   "outputs": [],
   "source": []
  },
  {
   "cell_type": "markdown",
   "metadata": {},
   "source": [
    "# 13.How to find the most frequent value in an array?"
   ]
  },
  {
   "cell_type": "code",
   "execution_count": 87,
   "metadata": {},
   "outputs": [
    {
     "name": "stdout",
     "output_type": "stream",
     "text": [
      "Original array:\n",
      "[0 2 2 2]\n",
      "Most frequent value in the above array:\n",
      "2\n"
     ]
    }
   ],
   "source": [
    "a = np.random.randint(0,4,4)\n",
    "print(\"Original array:\")\n",
    "print(a)\n",
    "print(\"Most frequent value in the above array:\")\n",
    "print(np.bincount(a).argmax())"
   ]
  },
  {
   "cell_type": "markdown",
   "metadata": {},
   "source": [
    "# 14.How to get the n largest values of an array"
   ]
  },
  {
   "cell_type": "code",
   "execution_count": 95,
   "metadata": {},
   "outputs": [
    {
     "name": "stdout",
     "output_type": "stream",
     "text": [
      "Original array is :\n",
      "[0 1 2 3 4 5 6 7 8 9]\n",
      "[9]\n"
     ]
    }
   ],
   "source": [
    "a = np.arange(10)\n",
    "print(\"Original array is :\")\n",
    "print(a)\n",
    "np.random.shuffle(a)\n",
    "n = 1\n",
    "print (a[np.argsort(a)[-n:]])"
   ]
  },
  {
   "cell_type": "markdown",
   "metadata": {},
   "source": [
    "# 15.How to create a record array from a regular array?"
   ]
  },
  {
   "cell_type": "code",
   "execution_count": 96,
   "metadata": {},
   "outputs": [
    {
     "name": "stdout",
     "output_type": "stream",
     "text": [
      "Original arrays:\n",
      "[['Teddy' '88.5' '90']\n",
      " ['Adi' '87.5' '99']\n",
      " ['Ritti' '85.5' '91']]\n",
      "\n",
      "Record array;\n",
      "[(b'Teddy', 88.5, 90) (b'Adi', 87.5, 99) (b'Ritti', 85.5, 91)]\n"
     ]
    }
   ],
   "source": [
    "array1 = np.array([(\"Teddy\", 88.5, 90), (\"Adi\", 87.5, 99), (\"Ritti\", 85.5, 91)])\n",
    "print(\"Original arrays:\")\n",
    "print(array1)\n",
    "print(\"\\nRecord array;\")\n",
    "result = np.core.records.fromarrays(array1.T, names='col1, col2, col3', formats = 'S80, f8, i8')\n",
    "print(result)"
   ]
  },
  {
   "cell_type": "code",
   "execution_count": null,
   "metadata": {},
   "outputs": [],
   "source": []
  }
 ],
 "metadata": {
  "kernelspec": {
   "display_name": "Python 3",
   "language": "python",
   "name": "python3"
  },
  "language_info": {
   "codemirror_mode": {
    "name": "ipython",
    "version": 3
   },
   "file_extension": ".py",
   "mimetype": "text/x-python",
   "name": "python",
   "nbconvert_exporter": "python",
   "pygments_lexer": "ipython3",
   "version": "3.7.6"
  }
 },
 "nbformat": 4,
 "nbformat_minor": 2
}
